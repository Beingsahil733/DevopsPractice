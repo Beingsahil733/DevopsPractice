{
 "cells": [
  {
   "cell_type": "markdown",
   "id": "9326f1a4",
   "metadata": {},
   "source": [
    "# a class which represents a ticket "
   ]
  },
  {
   "cell_type": "code",
   "execution_count": 7,
   "id": "8b2a9e5d",
   "metadata": {},
   "outputs": [
    {
     "data": {
      "text/plain": [
       "[0, 2, 4, 6, 8]"
      ]
     },
     "execution_count": 7,
     "metadata": {},
     "output_type": "execute_result"
    }
   ],
   "source": [
    "list(range(0,10,2))\n"
   ]
  },
  {
   "cell_type": "code",
   "execution_count": 23,
   "id": "70d02a7f",
   "metadata": {},
   "outputs": [
    {
     "name": "stdout",
     "output_type": "stream",
     "text": [
      "233168\n"
     ]
    }
   ],
   "source": [
    "sum = 0\n",
    "for number in range(0,1000):\n",
    "    if number % 3 == 0 or number % 5 == 0:\n",
    "        sum += number\n",
    "print(sum)\n",
    "    "
   ]
  },
  {
   "cell_type": "code",
   "execution_count": 33,
   "id": "e713b154",
   "metadata": {},
   "outputs": [
    {
     "data": {
      "text/plain": [
       "[0, 5, 10, 15, 20, 25, 30, 35, 40, 45, 50]"
      ]
     },
     "execution_count": 33,
     "metadata": {},
     "output_type": "execute_result"
    }
   ],
   "source": [
    "list(range(0, (100 // 2 + 1),5))"
   ]
  },
  {
   "cell_type": "code",
   "execution_count": 39,
   "id": "ab577ce5",
   "metadata": {},
   "outputs": [
    {
     "name": "stdout",
     "output_type": "stream",
     "text": [
      "<function is_prime at 0x0000020AB562DD00>\n"
     ]
    }
   ],
   "source": [
    "def is_prime(number):\n",
    "    return number % 2 == 0\n",
    "print(is_prime)"
   ]
  },
  {
   "cell_type": "code",
   "execution_count": 42,
   "id": "8de5e9a2",
   "metadata": {},
   "outputs": [
    {
     "name": "stdout",
     "output_type": "stream",
     "text": [
      "<function is_prime at 0x0000020AB562DD00>\n"
     ]
    }
   ],
   "source": [
    "if is_prime(20):\n",
    "    print(is_prime)"
   ]
  },
  {
   "cell_type": "code",
   "execution_count": 13,
   "id": "3fc5b143",
   "metadata": {},
   "outputs": [
    {
     "name": "stdout",
     "output_type": "stream",
     "text": [
      "True\n",
      "True\n",
      "True\n",
      "True\n",
      "True\n",
      "True\n",
      "True\n",
      "True\n",
      "True\n",
      "True\n",
      "True\n",
      "True\n",
      "True\n",
      "True\n",
      "True\n",
      "True\n",
      "True\n",
      "True\n",
      "True\n",
      "True\n",
      "True\n",
      "True\n",
      "True\n",
      "True\n",
      "True\n",
      "True\n",
      "True\n",
      "True\n",
      "True\n",
      "True\n",
      "True\n",
      "True\n",
      "True\n",
      "True\n",
      "True\n",
      "True\n",
      "True\n",
      "True\n",
      "True\n",
      "True\n",
      "True\n",
      "True\n",
      "True\n",
      "True\n",
      "True\n",
      "True\n",
      "True\n",
      "True\n",
      "True\n",
      "True\n",
      "True\n",
      "True\n",
      "True\n",
      "True\n",
      "True\n",
      "True\n",
      "True\n"
     ]
    }
   ],
   "source": [
    "number = 30\n",
    "for num in range(2,number+1):\n",
    "    if number % num == 0:\n",
    "        is_prime = True\n",
    "        for i in range(2,num):\n",
    "            if i % num == 0:\n",
    "                is_prime = False\n",
    "                break\n",
    "            if is_prime:\n",
    "                print(True)\n"
   ]
  },
  {
   "cell_type": "code",
   "execution_count": 10,
   "id": "4ef19eda",
   "metadata": {},
   "outputs": [
    {
     "name": "stdout",
     "output_type": "stream",
     "text": [
      "1\n",
      "2\n",
      "3\n",
      "5\n",
      "6\n",
      "10\n",
      "15\n",
      "30\n"
     ]
    }
   ],
   "source": [
    "for i in range(1, number + 1):\n",
    "    if number % i == 0:\n",
    "        print(i)"
   ]
  },
  {
   "cell_type": "code",
   "execution_count": null,
   "id": "8b38a191",
   "metadata": {},
   "outputs": [],
   "source": [
    "def is_prime_number(n):\n",
    "    if n <= 1:\n",
    "        return False\n",
    "    for i in range(2, int(n**0.5) + 1):\n",
    "        if n % i == 0:\n",
    "            return False\n",
    "    return True\n",
    "\n",
    "# Example usage\n",
    "print(is_prime_number(number))  # Check if the variable 'number' is prime"
   ]
  }
 ],
 "metadata": {
  "kernelspec": {
   "display_name": "Python 3",
   "language": "python",
   "name": "python3"
  },
  "language_info": {
   "codemirror_mode": {
    "name": "ipython",
    "version": 3
   },
   "file_extension": ".py",
   "mimetype": "text/x-python",
   "name": "python",
   "nbconvert_exporter": "python",
   "pygments_lexer": "ipython3",
   "version": "3.12.10"
  }
 },
 "nbformat": 4,
 "nbformat_minor": 5
}
