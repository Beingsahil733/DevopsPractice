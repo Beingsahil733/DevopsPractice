{
 "cells": [
  {
   "cell_type": "code",
   "execution_count": 14,
   "id": "870df05b",
   "metadata": {},
   "outputs": [],
   "source": [
    "say = 5+6"
   ]
  },
  {
   "cell_type": "code",
   "execution_count": 15,
   "id": "0c18ea4a",
   "metadata": {},
   "outputs": [
    {
     "data": {
      "text/plain": [
       "11"
      ]
     },
     "execution_count": 15,
     "metadata": {},
     "output_type": "execute_result"
    }
   ],
   "source": [
    "say"
   ]
  }
 ],
 "metadata": {
  "kernelspec": {
   "display_name": "Python 3",
   "language": "python",
   "name": "python3"
  },
  "language_info": {
   "codemirror_mode": {
    "name": "ipython",
    "version": 3
   },
   "file_extension": ".py",
   "mimetype": "text/x-python",
   "name": "python",
   "nbconvert_exporter": "python",
   "pygments_lexer": "ipython3",
   "version": "3.12.10"
  }
 },
 "nbformat": 4,
 "nbformat_minor": 5
}
