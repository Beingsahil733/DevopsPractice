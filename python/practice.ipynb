{
 "cells": [
  {
   "cell_type": "code",
   "execution_count": 14,
   "id": "870df05b",
   "metadata": {},
   "outputs": [],
   "source": [
    "say = 5+6"
   ]
  },
  {
   "cell_type": "code",
   "execution_count": 15,
   "id": "0c18ea4a",
   "metadata": {},
   "outputs": [
    {
     "data": {
      "text/plain": [
       "11"
      ]
     },
     "execution_count": 15,
     "metadata": {},
     "output_type": "execute_result"
    }
   ],
   "source": [
    "say"
   ]
  },
  {
   "cell_type": "code",
   "execution_count": 16,
   "id": "c8f625aa",
   "metadata": {},
   "outputs": [],
   "source": [
    "maths = 100\n",
    "science = 90\n",
    "social = 98"
   ]
  },
  {
   "cell_type": "code",
   "execution_count": 19,
   "id": "c18e808a",
   "metadata": {},
   "outputs": [],
   "source": [
    "sum = (social+maths+science)//3"
   ]
  },
  {
   "cell_type": "code",
   "execution_count": 20,
   "id": "1776db83",
   "metadata": {},
   "outputs": [
    {
     "name": "stdout",
     "output_type": "stream",
     "text": [
      "96\n"
     ]
    }
   ],
   "source": [
    "print(sum)"
   ]
  },
  {
   "cell_type": "code",
   "execution_count": 23,
   "id": "b1e4e209",
   "metadata": {},
   "outputs": [],
   "source": [
    "remember_number = 3\n",
    "multiple = remember_number+remember_number+remember_number"
   ]
  },
  {
   "cell_type": "code",
   "execution_count": 24,
   "id": "d506216b",
   "metadata": {},
   "outputs": [
    {
     "name": "stdout",
     "output_type": "stream",
     "text": [
      "9\n"
     ]
    }
   ],
   "source": [
    "print(multiple)"
   ]
  },
  {
   "cell_type": "code",
   "execution_count": 31,
   "id": "26523f87",
   "metadata": {},
   "outputs": [],
   "source": [
    "value = 11\n",
    "if value % 2 == 0:\n",
    "    print(\"even\")\n"
   ]
  }
 ],
 "metadata": {
  "kernelspec": {
   "display_name": "Python 3",
   "language": "python",
   "name": "python3"
  },
  "language_info": {
   "codemirror_mode": {
    "name": "ipython",
    "version": 3
   },
   "file_extension": ".py",
   "mimetype": "text/x-python",
   "name": "python",
   "nbconvert_exporter": "python",
   "pygments_lexer": "ipython3",
   "version": "3.12.10"
  }
 },
 "nbformat": 4,
 "nbformat_minor": 5
}
