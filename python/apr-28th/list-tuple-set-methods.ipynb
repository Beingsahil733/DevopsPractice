{
 "cells": [
  {
   "cell_type": "code",
   "execution_count": 15,
   "id": "8354ac82",
   "metadata": {},
   "outputs": [],
   "source": [
    "colours = [\"Red\",\"Blue\",\"Green\"]"
   ]
  },
  {
   "cell_type": "code",
   "execution_count": 16,
   "id": "077b4847",
   "metadata": {},
   "outputs": [
    {
     "data": {
      "text/plain": [
       "list"
      ]
     },
     "execution_count": 16,
     "metadata": {},
     "output_type": "execute_result"
    }
   ],
   "source": [
    "type(colours)"
   ]
  },
  {
   "cell_type": "code",
   "execution_count": 17,
   "id": "d8e2fe09",
   "metadata": {},
   "outputs": [
    {
     "data": {
      "text/plain": [
       "3"
      ]
     },
     "execution_count": 17,
     "metadata": {},
     "output_type": "execute_result"
    }
   ],
   "source": [
    "#find the size of the collection\n",
    "len(colours)"
   ]
  },
  {
   "cell_type": "code",
   "execution_count": null,
   "id": "8e314a5d",
   "metadata": {},
   "outputs": [
    {
     "data": {
      "text/plain": [
       "1"
      ]
     },
     "execution_count": 18,
     "metadata": {},
     "output_type": "execute_result"
    }
   ],
   "source": [
    "# it counts the mentioned value\n",
    "colours.count('Red')"
   ]
  },
  {
   "cell_type": "code",
   "execution_count": null,
   "id": "dd718a60",
   "metadata": {},
   "outputs": [],
   "source": [
    "# append is used to add the value in the last index\n",
    "colours.append('White')"
   ]
  },
  {
   "cell_type": "code",
   "execution_count": null,
   "id": "0bde8511",
   "metadata": {},
   "outputs": [],
   "source": [
    "#insert will add the value passed but at the mentioned index(i,v)\n",
    "colours.insert(1,'Black')"
   ]
  },
  {
   "cell_type": "code",
   "execution_count": 21,
   "id": "cc6b3035",
   "metadata": {},
   "outputs": [
    {
     "data": {
      "text/plain": [
       "['Red', 'Black', 'Blue', 'Green', 'White']"
      ]
     },
     "execution_count": 21,
     "metadata": {},
     "output_type": "execute_result"
    }
   ],
   "source": [
    "colours"
   ]
  },
  {
   "cell_type": "code",
   "execution_count": null,
   "id": "f0857dc8",
   "metadata": {},
   "outputs": [
    {
     "data": {
      "text/plain": [
       "'Red'"
      ]
     },
     "execution_count": 22,
     "metadata": {},
     "output_type": "execute_result"
    }
   ],
   "source": [
    "#pop will show the value with given index\n",
    "colours.pop(0)"
   ]
  },
  {
   "cell_type": "code",
   "execution_count": null,
   "id": "fbaab1e8",
   "metadata": {},
   "outputs": [
    {
     "data": {
      "text/plain": [
       "'White'"
      ]
     },
     "execution_count": 23,
     "metadata": {},
     "output_type": "execute_result"
    }
   ],
   "source": [
    "#pop() will show the value but the last index's\n",
    "colours.pop()"
   ]
  },
  {
   "cell_type": "code",
   "execution_count": 24,
   "id": "fc1a4b84",
   "metadata": {},
   "outputs": [],
   "source": [
    "my_colours = ['pink' , 'purple']"
   ]
  },
  {
   "cell_type": "code",
   "execution_count": 25,
   "id": "425be526",
   "metadata": {},
   "outputs": [
    {
     "data": {
      "text/plain": [
       "2"
      ]
     },
     "execution_count": 25,
     "metadata": {},
     "output_type": "execute_result"
    }
   ],
   "source": [
    "len(my_colours)"
   ]
  },
  {
   "cell_type": "code",
   "execution_count": 26,
   "id": "5828ffb2",
   "metadata": {},
   "outputs": [],
   "source": [
    "colours.extend(my_colours)"
   ]
  },
  {
   "cell_type": "code",
   "execution_count": 27,
   "id": "50bd39ff",
   "metadata": {},
   "outputs": [
    {
     "data": {
      "text/plain": [
       "['Black', 'Blue', 'Green', 'pink', 'purple']"
      ]
     },
     "execution_count": 27,
     "metadata": {},
     "output_type": "execute_result"
    }
   ],
   "source": [
    "colours"
   ]
  },
  {
   "cell_type": "code",
   "execution_count": 28,
   "id": "c23cf471",
   "metadata": {},
   "outputs": [
    {
     "data": {
      "text/plain": [
       "5"
      ]
     },
     "execution_count": 28,
     "metadata": {},
     "output_type": "execute_result"
    }
   ],
   "source": [
    "len(colours)"
   ]
  },
  {
   "cell_type": "code",
   "execution_count": 29,
   "id": "b3b33a86",
   "metadata": {},
   "outputs": [],
   "source": [
    "colours.extend(my_colours)"
   ]
  },
  {
   "cell_type": "code",
   "execution_count": 30,
   "id": "64cb87cd",
   "metadata": {},
   "outputs": [
    {
     "data": {
      "text/plain": [
       "['Black', 'Blue', 'Green', 'pink', 'purple', 'pink', 'purple']"
      ]
     },
     "execution_count": 30,
     "metadata": {},
     "output_type": "execute_result"
    }
   ],
   "source": [
    "colours"
   ]
  },
  {
   "cell_type": "code",
   "execution_count": 31,
   "id": "077f392a",
   "metadata": {},
   "outputs": [],
   "source": [
    "colours_set = set(colours)"
   ]
  },
  {
   "cell_type": "code",
   "execution_count": 34,
   "id": "2d5c71ff",
   "metadata": {},
   "outputs": [],
   "source": [
    "colours_set_1  = {\"white\",\"black\",\"blue\"}"
   ]
  },
  {
   "cell_type": "code",
   "execution_count": 35,
   "id": "2edb0309",
   "metadata": {},
   "outputs": [],
   "source": [
    "colours_set_2 = {\"pink\",\"white\",\"green\"}"
   ]
  },
  {
   "cell_type": "code",
   "execution_count": 36,
   "id": "fa939568",
   "metadata": {},
   "outputs": [
    {
     "data": {
      "text/plain": [
       "{'black', 'blue', 'green', 'pink', 'white'}"
      ]
     },
     "execution_count": 36,
     "metadata": {},
     "output_type": "execute_result"
    }
   ],
   "source": [
    "colours_set_1.union(colours_set_2)"
   ]
  },
  {
   "cell_type": "code",
   "execution_count": 37,
   "id": "fd45b269",
   "metadata": {},
   "outputs": [
    {
     "data": {
      "text/plain": [
       "{'white'}"
      ]
     },
     "execution_count": 37,
     "metadata": {},
     "output_type": "execute_result"
    }
   ],
   "source": [
    "colours_set_1.intersection(colours_set_2)"
   ]
  },
  {
   "cell_type": "code",
   "execution_count": 38,
   "id": "aa6fcfba",
   "metadata": {},
   "outputs": [
    {
     "data": {
      "text/plain": [
       "{'black', 'blue'}"
      ]
     },
     "execution_count": 38,
     "metadata": {},
     "output_type": "execute_result"
    }
   ],
   "source": [
    "colours_set_1.difference(colours_set_2)"
   ]
  },
  {
   "cell_type": "code",
   "execution_count": 42,
   "id": "398d1c12",
   "metadata": {},
   "outputs": [],
   "source": [
    "#membership operators"
   ]
  },
  {
   "cell_type": "code",
   "execution_count": 44,
   "id": "55e9dfda",
   "metadata": {},
   "outputs": [
    {
     "data": {
      "text/plain": [
       "False"
      ]
     },
     "execution_count": 44,
     "metadata": {},
     "output_type": "execute_result"
    }
   ],
   "source": [
    "\"Red\" in colours"
   ]
  },
  {
   "cell_type": "code",
   "execution_count": 45,
   "id": "9ed8e737",
   "metadata": {},
   "outputs": [
    {
     "data": {
      "text/plain": [
       "True"
      ]
     },
     "execution_count": 45,
     "metadata": {},
     "output_type": "execute_result"
    }
   ],
   "source": [
    "'purple' in colours"
   ]
  },
  {
   "cell_type": "code",
   "execution_count": 46,
   "id": "0bc737c6",
   "metadata": {},
   "outputs": [
    {
     "data": {
      "text/plain": [
       "False"
      ]
     },
     "execution_count": 46,
     "metadata": {},
     "output_type": "execute_result"
    }
   ],
   "source": [
    "'purple' not in  colours"
   ]
  },
  {
   "cell_type": "code",
   "execution_count": null,
   "id": "83edb1c7",
   "metadata": {},
   "outputs": [],
   "source": [
    "#membership can be used in list,tuple,sets,dictionaries"
   ]
  },
  {
   "cell_type": "code",
   "execution_count": 50,
   "id": "821c1703",
   "metadata": {},
   "outputs": [],
   "source": [
    "#nested list\n",
    "\n",
    "matrix = [[1,2],[3,4]]"
   ]
  },
  {
   "cell_type": "code",
   "execution_count": 51,
   "id": "61095f13",
   "metadata": {},
   "outputs": [
    {
     "data": {
      "text/plain": [
       "1"
      ]
     },
     "execution_count": 51,
     "metadata": {},
     "output_type": "execute_result"
    }
   ],
   "source": [
    "matrix[0][0]"
   ]
  },
  {
   "cell_type": "code",
   "execution_count": null,
   "id": "72c45224",
   "metadata": {},
   "outputs": [],
   "source": [
    "# Dictionary\n",
    "# Dictionary's are key value pairs which holds multiple values\n",
    "# Keys should be immutable pairs can be str or list"
   ]
  },
  {
   "cell_type": "code",
   "execution_count": 2,
   "id": "e5ec0d99",
   "metadata": {},
   "outputs": [],
   "source": [
    "movie = {\n",
    "    'title' : 'Avengers',\n",
    "    'thundergod' : 'thor',\n",
    "    'savior' : 'CaptainAmerica'\n",
    "    \n",
    "}"
   ]
  },
  {
   "cell_type": "code",
   "execution_count": 3,
   "id": "8f288707",
   "metadata": {},
   "outputs": [
    {
     "data": {
      "text/plain": [
       "'Avengers'"
      ]
     },
     "execution_count": 3,
     "metadata": {},
     "output_type": "execute_result"
    }
   ],
   "source": [
    "movie['title']"
   ]
  },
  {
   "cell_type": "code",
   "execution_count": 4,
   "id": "355e0171",
   "metadata": {},
   "outputs": [
    {
     "name": "stdout",
     "output_type": "stream",
     "text": [
      "title\n",
      "thundergod\n",
      "savior\n"
     ]
    }
   ],
   "source": [
    "for i in movie:\n",
    "    print(i)"
   ]
  },
  {
   "cell_type": "code",
   "execution_count": 6,
   "id": "9f313ed5",
   "metadata": {},
   "outputs": [
    {
     "name": "stdout",
     "output_type": "stream",
     "text": [
      "<class 'str'>\n",
      "title\n",
      "<class 'str'>\n",
      "thundergod\n",
      "<class 'str'>\n",
      "savior\n"
     ]
    }
   ],
   "source": [
    "for i in movie:\n",
    "    print(type(i))\n",
    "    print(i)"
   ]
  },
  {
   "cell_type": "code",
   "execution_count": 7,
   "id": "4e2f5cc4",
   "metadata": {},
   "outputs": [
    {
     "name": "stdout",
     "output_type": "stream",
     "text": [
      "title -> Avengers\n",
      "thundergod -> thor\n",
      "savior -> CaptainAmerica\n"
     ]
    }
   ],
   "source": [
    "\n",
    "# default iteration gives keys only\n",
    "for m in movie:\n",
    "    print(f\"{m} -> {movie[m]}\")"
   ]
  },
  {
   "cell_type": "code",
   "execution_count": 8,
   "id": "4f5b7010",
   "metadata": {},
   "outputs": [
    {
     "name": "stdout",
     "output_type": "stream",
     "text": [
      "Avengers\n",
      "thor\n",
      "CaptainAmerica\n"
     ]
    }
   ],
   "source": [
    "for m in movie.values():\n",
    "    print(m)\n"
   ]
  },
  {
   "cell_type": "code",
   "execution_count": 9,
   "id": "8c09c7ab",
   "metadata": {},
   "outputs": [
    {
     "name": "stdout",
     "output_type": "stream",
     "text": [
      "title -> Avengers\n",
      "thundergod -> thor\n",
      "savior -> CaptainAmerica\n"
     ]
    }
   ],
   "source": [
    "for i, m in movie.items():\n",
    "    print(f\"{i} -> {m}\")\n"
   ]
  },
  {
   "cell_type": "code",
   "execution_count": 10,
   "id": "42b19abe",
   "metadata": {},
   "outputs": [],
   "source": [
    "movie_directors = dict()\n"
   ]
  }
 ],
 "metadata": {
  "kernelspec": {
   "display_name": "Python 3",
   "language": "python",
   "name": "python3"
  },
  "language_info": {
   "codemirror_mode": {
    "name": "ipython",
    "version": 3
   },
   "file_extension": ".py",
   "mimetype": "text/x-python",
   "name": "python",
   "nbconvert_exporter": "python",
   "pygments_lexer": "ipython3",
   "version": "3.12.10"
  }
 },
 "nbformat": 4,
 "nbformat_minor": 5
}
